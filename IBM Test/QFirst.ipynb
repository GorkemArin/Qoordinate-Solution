{
 "cells": [
  {
   "cell_type": "code",
   "execution_count": 3,
   "id": "5e5b975b-25f2-41c0-8d2a-79d51797a828",
   "metadata": {},
   "outputs": [],
   "source": [
    "from qiskit import QuantumCircuit, transpile"
   ]
  },
  {
   "cell_type": "code",
   "execution_count": 7,
   "id": "8d333921-3613-4a36-8368-ff25673969ea",
   "metadata": {},
   "outputs": [
    {
     "ename": "AccountAlreadyExistsError",
     "evalue": "'Named account (default-ibm-quantum) already exists. Set overwrite=True to overwrite.'",
     "output_type": "error",
     "traceback": [
      "\u001b[1;31m---------------------------------------------------------------------------\u001b[0m",
      "\u001b[1;31mAccountAlreadyExistsError\u001b[0m                 Traceback (most recent call last)",
      "\u001b[1;32m<ipython-input-7-8629798616ec>\u001b[0m in \u001b[0;36m<module>\u001b[1;34m\u001b[0m\n\u001b[0;32m      1\u001b[0m \u001b[1;32mfrom\u001b[0m \u001b[0mqiskit_ibm_provider\u001b[0m \u001b[1;32mimport\u001b[0m \u001b[0mIBMProvider\u001b[0m\u001b[1;33m\u001b[0m\u001b[1;33m\u001b[0m\u001b[0m\n\u001b[1;32m----> 2\u001b[1;33m \u001b[0mIBMProvider\u001b[0m\u001b[1;33m.\u001b[0m\u001b[0msave_account\u001b[0m\u001b[1;33m(\u001b[0m\u001b[0mtoken\u001b[0m\u001b[1;33m=\u001b[0m\u001b[1;34m\"fe9b6ab76060ff4edd9cd6a7f74b4bbb6abfec2c8f2df97898683cfd83365b3e3b1ca072fffbf2b4808ea6493b65c58c42ff1fdc84841b7322bece2e3e75210b\"\u001b[0m\u001b[1;33m)\u001b[0m\u001b[1;33m\u001b[0m\u001b[1;33m\u001b[0m\u001b[0m\n\u001b[0m",
      "\u001b[1;32mc:\\users\\gorke\\appdata\\local\\programs\\python\\python38-32\\lib\\site-packages\\qiskit_ibm_provider\\ibm_provider.py\u001b[0m in \u001b[0;36msave_account\u001b[1;34m(token, url, instance, name, proxies, verify, overwrite)\u001b[0m\n\u001b[0;32m    483\u001b[0m         \"\"\"\n\u001b[0;32m    484\u001b[0m \u001b[1;33m\u001b[0m\u001b[0m\n\u001b[1;32m--> 485\u001b[1;33m         AccountManager.save(\n\u001b[0m\u001b[0;32m    486\u001b[0m             \u001b[0mtoken\u001b[0m\u001b[1;33m=\u001b[0m\u001b[0mtoken\u001b[0m\u001b[1;33m,\u001b[0m\u001b[1;33m\u001b[0m\u001b[1;33m\u001b[0m\u001b[0m\n\u001b[0;32m    487\u001b[0m             \u001b[0murl\u001b[0m\u001b[1;33m=\u001b[0m\u001b[0murl\u001b[0m\u001b[1;33m,\u001b[0m\u001b[1;33m\u001b[0m\u001b[1;33m\u001b[0m\u001b[0m\n",
      "\u001b[1;32mc:\\users\\gorke\\appdata\\local\\programs\\python\\python38-32\\lib\\site-packages\\qiskit_ibm_provider\\accounts\\management.py\u001b[0m in \u001b[0;36msave\u001b[1;34m(cls, token, url, instance, channel, name, proxies, verify, overwrite)\u001b[0m\n\u001b[0;32m     47\u001b[0m         \u001b[0mcls\u001b[0m\u001b[1;33m.\u001b[0m\u001b[0mmigrate\u001b[0m\u001b[1;33m(\u001b[0m\u001b[1;33m)\u001b[0m\u001b[1;33m\u001b[0m\u001b[1;33m\u001b[0m\u001b[0m\n\u001b[0;32m     48\u001b[0m         \u001b[0mname\u001b[0m \u001b[1;33m=\u001b[0m \u001b[0mname\u001b[0m \u001b[1;32mor\u001b[0m \u001b[0mcls\u001b[0m\u001b[1;33m.\u001b[0m\u001b[0m_default_account_name_ibm_quantum\u001b[0m\u001b[1;33m\u001b[0m\u001b[1;33m\u001b[0m\u001b[0m\n\u001b[1;32m---> 49\u001b[1;33m         return save_config(\n\u001b[0m\u001b[0;32m     50\u001b[0m             \u001b[0mfilename\u001b[0m\u001b[1;33m=\u001b[0m\u001b[0mcls\u001b[0m\u001b[1;33m.\u001b[0m\u001b[0m_default_account_config_json_file\u001b[0m\u001b[1;33m,\u001b[0m\u001b[1;33m\u001b[0m\u001b[1;33m\u001b[0m\u001b[0m\n\u001b[0;32m     51\u001b[0m             \u001b[0mname\u001b[0m\u001b[1;33m=\u001b[0m\u001b[0mname\u001b[0m\u001b[1;33m,\u001b[0m\u001b[1;33m\u001b[0m\u001b[1;33m\u001b[0m\u001b[0m\n",
      "\u001b[1;32mc:\\users\\gorke\\appdata\\local\\programs\\python\\python38-32\\lib\\site-packages\\qiskit_ibm_provider\\accounts\\storage.py\u001b[0m in \u001b[0;36msave_config\u001b[1;34m(filename, name, config, overwrite)\u001b[0m\n\u001b[0;32m     31\u001b[0m \u001b[1;33m\u001b[0m\u001b[0m\n\u001b[0;32m     32\u001b[0m     \u001b[1;32mif\u001b[0m \u001b[0mdata\u001b[0m\u001b[1;33m.\u001b[0m\u001b[0mget\u001b[0m\u001b[1;33m(\u001b[0m\u001b[0mname\u001b[0m\u001b[1;33m)\u001b[0m \u001b[1;32mand\u001b[0m \u001b[1;32mnot\u001b[0m \u001b[0moverwrite\u001b[0m\u001b[1;33m:\u001b[0m\u001b[1;33m\u001b[0m\u001b[1;33m\u001b[0m\u001b[0m\n\u001b[1;32m---> 33\u001b[1;33m         raise AccountAlreadyExistsError(\n\u001b[0m\u001b[0;32m     34\u001b[0m             \u001b[1;34mf\"Named account ({name}) already exists. \"\u001b[0m\u001b[1;33m\u001b[0m\u001b[1;33m\u001b[0m\u001b[0m\n\u001b[0;32m     35\u001b[0m             \u001b[1;34mf\"Set overwrite=True to overwrite.\"\u001b[0m\u001b[1;33m\u001b[0m\u001b[1;33m\u001b[0m\u001b[0m\n",
      "\u001b[1;31mAccountAlreadyExistsError\u001b[0m: 'Named account (default-ibm-quantum) already exists. Set overwrite=True to overwrite.'"
     ]
    }
   ],
   "source": [
    "from qiskit_ibm_provider import IBMProvider\n",
    "IBMProvider.save_account(token=\"fe9b6ab76060ff4edd9cd6a7f74b4bbb6abfec2c8f2df97898683cfd83365b3e3b1ca072fffbf2b4808ea6493b65c58c42ff1fdc84841b7322bece2e3e75210b\")"
   ]
  },
  {
   "cell_type": "code",
   "execution_count": 13,
   "id": "efd4df64-613f-4a99-a06e-9d3516ef9054",
   "metadata": {},
   "outputs": [
    {
     "data": {
      "image/png": "[encoded data removed]",
      "text/plain": [
       "<Figure size 417.879x204.68 with 1 Axes>"
      ]
     },
     "execution_count": 13,
     "metadata": {},
     "output_type": "execute_result"
    }
   ],
   "source": [
    "qc = QuantumCircuit(2)\n",
    "qc.h(0)\n",
    "qc.cx(0,1)\n",
    "qc.measure_all()\n",
    "qc.draw(\"mpl\")"
   ]
  },
  {
   "cell_type": "code",
   "execution_count": 22,
   "id": "56cf7ef5-5cd8-4768-8300-eb1c76c853b4",
   "metadata": {},
   "outputs": [
    {
     "name": "stdout",
     "output_type": "stream",
     "text": [
      "{'00': 1983, '11': 2017}\n"
     ]
    }
   ],
   "source": [
    "provider2 = IBMProvider()\n",
    "# Select a backend.\n",
    "backend2 = provider2.get_backend(\"ibmq_qasm_simulator\")\n",
    "\n",
    "# Transpile the circuit\n",
    "transpiled2 = transpile(qc, backend=backend2)\n",
    "\n",
    "# Submit a job.\n",
    "job2 = backend2.run(transpiled2)\n",
    "# Get results.\n",
    "print(job2.result().get_counts())"
   ]
  },
  {
   "cell_type": "code",
   "execution_count": null,
   "id": "de9f5b1b-b6ff-4ae1-bb0e-e3ab30b4a1d8",
   "metadata": {},
   "outputs": [],
   "source": [
    "provider = IBMProvider()\n",
    "# Select a backend.\n",
    "backend = provider.get_backend(\"ibm_brisbane\")\n",
    "\n",
    "# Transpile the circuit\n",
    "transpiled = transpile(qc, backend=backend)\n",
    "\n",
    "# Submit a job.\n",
    "job = backend.run(transpiled)\n",
    "# Get results.\n",
    "print(job.result().get_counts())"
   ]
  },
  {
   "cell_type": "code",
   "execution_count": 8,
   "id": "7de678d8-06d5-47b3-9113-26a5a494a4b1",
   "metadata": {},
   "outputs": [],
   "source": [
    "N = 50\n",
    "\n",
    "qcN = QuantumCircuit(N)\n",
    "qcN.h(0)\n",
    "\n",
    "for i in range(1, N):\n",
    "    qcN.cx(0, i)\n",
    "    \n",
    "qcN.measure_all()\n",
    "#qcN.draw(\"mpl\")"
   ]
  },
  {
   "cell_type": "code",
   "execution_count": 10,
   "id": "e113a509-67b5-452f-8c5b-6667ab15daff",
   "metadata": {},
   "outputs": [
    {
     "ename": "IBMJobFailureError",
     "evalue": "'Job failed: Error code 9999; Failure during build: Problem uploading payload over NATS: NoRespondersError()'",
     "output_type": "error",
     "traceback": [
      "\u001b[1;31m---------------------------------------------------------------------------\u001b[0m",
      "\u001b[1;31mIBMJobFailureError\u001b[0m                        Traceback (most recent call last)",
      "\u001b[1;32m<ipython-input-10-6dc5df4068e4>\u001b[0m in \u001b[0;36m<module>\u001b[1;34m\u001b[0m\n\u001b[0;32m      9\u001b[0m \u001b[0mjob\u001b[0m \u001b[1;33m=\u001b[0m \u001b[0mbackend\u001b[0m\u001b[1;33m.\u001b[0m\u001b[0mrun\u001b[0m\u001b[1;33m(\u001b[0m\u001b[0mtranspiled\u001b[0m\u001b[1;33m)\u001b[0m\u001b[1;33m\u001b[0m\u001b[1;33m\u001b[0m\u001b[0m\n\u001b[0;32m     10\u001b[0m \u001b[1;31m# Get results.\u001b[0m\u001b[1;33m\u001b[0m\u001b[1;33m\u001b[0m\u001b[1;33m\u001b[0m\u001b[0m\n\u001b[1;32m---> 11\u001b[1;33m \u001b[0mprint\u001b[0m\u001b[1;33m(\u001b[0m\u001b[0mjob\u001b[0m\u001b[1;33m.\u001b[0m\u001b[0mresult\u001b[0m\u001b[1;33m(\u001b[0m\u001b[1;33m)\u001b[0m\u001b[1;33m.\u001b[0m\u001b[0mget_counts\u001b[0m\u001b[1;33m(\u001b[0m\u001b[1;33m)\u001b[0m\u001b[1;33m)\u001b[0m\u001b[1;33m\u001b[0m\u001b[1;33m\u001b[0m\u001b[0m\n\u001b[0m",
      "\u001b[1;32mc:\\users\\gorke\\appdata\\local\\programs\\python\\python38-32\\lib\\site-packages\\qiskit_ibm_provider\\job\\ibm_circuit_job.py\u001b[0m in \u001b[0;36mresult\u001b[1;34m(self, timeout, refresh)\u001b[0m\n\u001b[0;32m    255\u001b[0m             \u001b[1;32mif\u001b[0m \u001b[0mself\u001b[0m\u001b[1;33m.\u001b[0m\u001b[0m_status\u001b[0m \u001b[1;33m==\u001b[0m \u001b[0mJobStatus\u001b[0m\u001b[1;33m.\u001b[0m\u001b[0mERROR\u001b[0m\u001b[1;33m:\u001b[0m\u001b[1;33m\u001b[0m\u001b[1;33m\u001b[0m\u001b[0m\n\u001b[0;32m    256\u001b[0m                 \u001b[0merror_message\u001b[0m \u001b[1;33m=\u001b[0m \u001b[0mself\u001b[0m\u001b[1;33m.\u001b[0m\u001b[0merror_message\u001b[0m\u001b[1;33m(\u001b[0m\u001b[1;33m)\u001b[0m\u001b[1;33m\u001b[0m\u001b[1;33m\u001b[0m\u001b[0m\n\u001b[1;32m--> 257\u001b[1;33m                 \u001b[1;32mraise\u001b[0m \u001b[0mIBMJobFailureError\u001b[0m\u001b[1;33m(\u001b[0m\u001b[1;34mf\"Job failed: \"\u001b[0m \u001b[1;34mf\"{error_message}\"\u001b[0m\u001b[1;33m)\u001b[0m\u001b[1;33m\u001b[0m\u001b[1;33m\u001b[0m\u001b[0m\n\u001b[0m\u001b[0;32m    258\u001b[0m             \u001b[0mself\u001b[0m\u001b[1;33m.\u001b[0m\u001b[0m_retrieve_result\u001b[0m\u001b[1;33m(\u001b[0m\u001b[0mrefresh\u001b[0m\u001b[1;33m=\u001b[0m\u001b[0mrefresh\u001b[0m\u001b[1;33m)\u001b[0m\u001b[1;33m\u001b[0m\u001b[1;33m\u001b[0m\u001b[0m\n\u001b[0;32m    259\u001b[0m         \u001b[1;32mreturn\u001b[0m \u001b[0mself\u001b[0m\u001b[1;33m.\u001b[0m\u001b[0m_result\u001b[0m\u001b[1;33m\u001b[0m\u001b[1;33m\u001b[0m\u001b[0m\n",
      "\u001b[1;31mIBMJobFailureError\u001b[0m: 'Job failed: Error code 9999; Failure during build: Problem uploading payload over NATS: NoRespondersError()'"
     ]
    }
   ],
   "source": [
    "provider = IBMProvider()\n",
    "# Select a backend.\n",
    "backend = provider.get_backend(\"ibm_brisbane\")\n",
    "\n",
    "# Transpile the circuit\n",
    "transpiled = transpile(qcN, backend=backend)\n",
    "\n",
    "# Submit a job.\n",
    "job = backend.run(transpiled)\n",
    "# Get results.\n",
    "print(job.result().get_counts())"
   ]
  }
 ],
 "metadata": {
  "kernelspec": {
   "display_name": "Python 3",
   "language": "python",
   "name": "python3"
  },
  "language_info": {
   "codemirror_mode": {
    "name": "ipython",
    "version": 3
   },
   "file_extension": ".py",
   "mimetype": "text/x-python",
   "name": "python",
   "nbconvert_exporter": "python",
   "pygments_lexer": "ipython3",
   "version": "3.8.1"
  }
 },
 "nbformat": 4,
 "nbformat_minor": 5
}
